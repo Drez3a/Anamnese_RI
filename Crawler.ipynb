{
 "cells": [
  {
   "cell_type": "code",
   "execution_count": 1,
   "metadata": {},
   "outputs": [],
   "source": [
    "import bs4\n",
    "import requests\n",
    "import time\n",
    "from multiprocessing import Pool\n",
    "\n",
    "# para Session()\n",
    "# from requests.adapters import HTTPAdapter\n",
    "# from requests.packages.urllib3.util.retry import Retry\n",
    "\n",
    "\n",
    "visitedLinks = set()\n",
    "\n",
    "def get_links(start):\n",
    "    links = set()\n",
    "    links.add(start) \n",
    "     \n",
    "    res = ''\n",
    "    while res == '':\n",
    "        try:\n",
    "            res = requests.get(start)\n",
    "            break\n",
    "        except:\n",
    "            time.sleep(5)\n",
    "            continue    \n",
    "\n",
    "# outra opcao   \n",
    "#     session = requests.Session()\n",
    "#     retry = Retry(total=1000, connect=1000, read=1000, redirect=1000, backoff_factor=0.5)\n",
    "#     adapter = HTTPAdapter(max_retries=retry)\n",
    "#     session.mount(start, adapter)\n",
    "#     session.mount(start, adapter)\n",
    "#     res = session.get(start)\n",
    "    \n",
    "    soup = bs4.BeautifulSoup(res.text, 'lxml')     \n",
    "    \n",
    "    for link in soup.find_all('a', href=True):\n",
    "        href = link[\"href\"]\n",
    "    \n",
    "        # apenas links do site\n",
    "        if (href.startswith(start) | href.startswith(\"/\")):\n",
    "        \n",
    "            # trata urls relativos\n",
    "            url = start + str(href) \n",
    "            \n",
    "            # trata links para imagens (nao é possivel tratar com content-type)\n",
    "            if \"png\" not in url or \"jpg\" not in url:\n",
    "                links.add(url)\n",
    "    \n",
    "    # remove todos os links que sao iguais a buscas passadas\n",
    "    links = links.difference(visitedLinks)\n",
    "    \n",
    "    # armazena todos os links já consultados sem repeticoes\n",
    "    visitedLinks.update(links)\n",
    "    \n",
    "    return list(links)\n",
    "    \n",
    "\n",
    "def crawl_bsf(start): \n",
    "    queue = []\n",
    "    frontier = [start] # start -> frontier \n",
    "    count = 0\n",
    "    \n",
    "    while(len(frontier) != 0 and count < 1000):  \n",
    "        seen = frontier.pop(0)        \n",
    "        queue.append(seen)\n",
    "        if (len(frontier) <= 1000):\n",
    "            frontier.extend(get_links(seen)) # adiciona os vizinhos no fim da lista\n",
    "        count += 1\n",
    "\n",
    "    print(len(queue)) # quantas pages do site foram crawleadas\n",
    "    \n",
    "    return queue"
   ]
  },
  {
   "cell_type": "code",
   "execution_count": null,
   "metadata": {},
   "outputs": [
    {
     "name": "stdout",
     "output_type": "stream",
     "text": [
      "Crawling https://www.minhavida.com.br :\n",
      "1000\n",
      "Crawling https://medicoresponde.com.br :\n",
      "1000\n",
      "Crawling https://emagrecer.eco.br :\n"
     ]
    }
   ],
   "source": [
    "seeds = [\"https://www.minhavida.com.br\", \"https://medicoresponde.com.br\",  \"https://emagrecer.eco.br\",\n",
    "             \"https://www.tuasaude.com\", \"https://www.mdsaude.com\", \"http://portalms.saude.gov.br\", \n",
    "             \"http://www.portalnatural.com\", \"http://portal.saude.pe.gov.br\"] \n",
    "\n",
    "# descartados \"https://minutosaudavel.com.br\" e \"http://www.riocomsaude.rj.gov.br\"\n",
    "\n",
    "sites = []\n",
    "\n",
    "for link in seeds:\n",
    "    print(\"Crawling\", link, \":\")\n",
    "    sites.append(crawl_bsf(link))  # lista de listas, para armazenar os links por site"
   ]
  },
  {
   "cell_type": "code",
   "execution_count": null,
   "metadata": {},
   "outputs": [],
   "source": []
  }
 ],
 "metadata": {
  "kernelspec": {
   "display_name": "Python 3",
   "language": "python",
   "name": "python3"
  },
  "language_info": {
   "codemirror_mode": {
    "name": "ipython",
    "version": 3
   },
   "file_extension": ".py",
   "mimetype": "text/x-python",
   "name": "python",
   "nbconvert_exporter": "python",
   "pygments_lexer": "ipython3",
   "version": "3.6.4"
  }
 },
 "nbformat": 4,
 "nbformat_minor": 2
}
